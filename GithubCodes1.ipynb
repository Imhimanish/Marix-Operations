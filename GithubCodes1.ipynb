{
  "nbformat": 4,
  "nbformat_minor": 0,
  "metadata": {
    "colab": {
      "provenance": [],
      "authorship_tag": "ABX9TyNMsr28xRjwAGonLEo6bH1l",
      "include_colab_link": true
    },
    "kernelspec": {
      "name": "python3",
      "display_name": "Python 3"
    },
    "language_info": {
      "name": "python"
    }
  },
  "cells": [
    {
      "cell_type": "markdown",
      "metadata": {
        "id": "view-in-github",
        "colab_type": "text"
      },
      "source": [
        "<a href=\"https://colab.research.google.com/github/Imhimanish/Marix-Operations/blob/main/GithubCodes1.ipynb\" target=\"_parent\"><img src=\"https://colab.research.google.com/assets/colab-badge.svg\" alt=\"Open In Colab\"/></a>"
      ]
    },
    {
      "cell_type": "markdown",
      "source": [
        "Trace Of Matrix"
      ],
      "metadata": {
        "id": "jhH9ICSVYu0I"
      }
    },
    {
      "cell_type": "code",
      "source": [
        "A = [[1,2,1],[2,3,1],[1,1,1]]\n",
        "\n",
        "B = [[4,5,6],[5,6,4],[1,1,1]]\n",
        "\n",
        "ta=0\n",
        "tb=None\n",
        "\n",
        "#displaying martrix A\n",
        "\n",
        "print(\"Matrix A-\")\n",
        "for i in range(len(A)):\n",
        "  for j in range(len(A[0])):\n",
        "    print(A[i][j],end = ' ')\n",
        "  print()\n",
        "print()\n",
        "print(\"Matrix B\")\n",
        "\n",
        "#displaying matrix B\n",
        "for i in range(len(B)):\n",
        "  for j in range(len(B[0])):\n",
        "    print(B[i][j],end = ' ')\n",
        "  print()\n",
        "\n",
        "print()\n",
        "#multiplication of A B\n",
        "if len(A[0])==len(B):\n",
        "  print(\"The multiplied matrix AB is -\")\n",
        "\n",
        "  AB=[]\n",
        "  \n",
        "  for i in range(len(A)):\n",
        "    a=[]\n",
        "    for j in range(len(B[0])):\n",
        "      m=0\n",
        "      for k in range(len(A[0])):\n",
        "        m+= A[i][k]*B[k][j]\n",
        "      a.append(m)\n",
        "    AB.append(a)\n",
        "\n",
        " #the AB matrix\n",
        "\n",
        "  for i in range(len(A)):\n",
        "    for j in range(len(B[0])):\n",
        "      print(AB[i][j],end = ' ')\n",
        "    print()\n",
        "\n",
        " #trace of AB matrix\n",
        "\n",
        "  if len(AB)==len(AB[0]):\n",
        "    print()\n",
        "    ta=0\n",
        "\n",
        "    for i in range(len(A)):\n",
        "      ta+= AB[i][i]\n",
        "    print(\"The trace of AB matrix is -\",ta)\n",
        "    print()\n",
        "  else:\n",
        "    print(\"Trace can not be calculated, Row is not equal to Column\")\n",
        "else:\n",
        "  print(\"Multiplication can not be done since Column of A not equal to Row of B\")\n",
        "\n",
        "#multiplication of B A\n",
        "\n",
        "if len(B[0])==len(A):\n",
        "  print(\"The multiplied BA matrix is-\")\n",
        "  BA=[]\n",
        "  for i in range(len(B)):\n",
        "    a=[]\n",
        "    for j in range(len(A[0])):\n",
        "      m=0\n",
        "      for k in range(len(B[0])):\n",
        "        m+= B[i][k]*A[k][j]\n",
        "      a.append(m)\n",
        "    BA.append(a)\n",
        "\n",
        "#the BA matrix\n",
        "\n",
        "  for i in range(len(B)):\n",
        "    for j in range(len(A[0])):\n",
        "      print(BA[i][j],end = ' ')\n",
        "    print()\n",
        "\n",
        "#trace of BA matrix\n",
        "\n",
        "  if len(BA)==len(BA[0]):\n",
        "    print()\n",
        "    tb=0\n",
        "    for i in range(len(A)):\n",
        "      tb+= BA[i][i]\n",
        "    print(\"The trace of BA matrix is -\",tb)\n",
        "    print()\n",
        "  else:\n",
        "    print(\"Trace can not be calculated, Row is not equal to Column\")\n",
        "else:\n",
        " print(\"Multiplication can not be done since Column of B not equal to Row of A\")\n",
        " \n",
        "if ta==tb:\n",
        " print(\"Trace of [AB] = trace of [BA] Proved!\")\n"
      ],
      "metadata": {
        "colab": {
          "base_uri": "https://localhost:8080/"
        },
        "id": "JHPVvjre6P_P",
        "outputId": "8c5eee45-ec46-4d76-f4bb-8217b9cb1c56"
      },
      "execution_count": 6,
      "outputs": [
        {
          "output_type": "stream",
          "name": "stdout",
          "text": [
            "Matrix A-\n",
            "1 2 1 \n",
            "2 3 1 \n",
            "1 1 1 \n",
            "\n",
            "Matrix B\n",
            "4 5 6 \n",
            "5 6 4 \n",
            "1 1 1 \n",
            "\n",
            "The multiplied matrix AB is -\n",
            "15 18 15 \n",
            "24 29 25 \n",
            "10 12 11 \n",
            "\n",
            "The trace of AB matrix is - 55\n",
            "\n",
            "The multiplied BA matrix is-\n",
            "20 29 15 \n",
            "21 32 15 \n",
            "4 6 3 \n",
            "\n",
            "The trace of BA matrix is - 55\n",
            "\n",
            "Trace of [AB] = trace of [BA] Proved!\n"
          ]
        }
      ]
    }
  ]
}